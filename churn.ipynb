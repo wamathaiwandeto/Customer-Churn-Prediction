{
 "cells": [
  {
   "cell_type": "markdown",
   "metadata": {},
   "source": [
    "# **Customer Churn Prediction** \n",
    "'Churn' - It is the measure of how many customers stop using a product."
   ]
  },
  {
   "cell_type": "markdown",
   "metadata": {},
   "source": [
    "## **Introduction**\n",
    "In the competitive landscape of business, maximizing profit margins and ensuring customer retention are paramount objectives for companies across industries. Leveraging the power of machine learning, organizations are increasingly turning to classification models to conduct churn analysis on their customer base. Classification, a fundamental concept in machine learning and statistics, involves a supervised learning approach where algorithms learn from existing data to predict and classify new observations.  \n",
    "\n",
    "## **Business Understanding Statement**\n",
    "In today's competitive business environment, maximizing profit margins and retaining customers are top priorities for companies across industries. Leveraging the capabilities of machine learning, organizations are increasingly adopting classification models for churn analysis, a critical aspect of customer relationship management. Classification models, rooted in machine learning and statistics, enable businesses to predict and categorize customers based on their likelihood of churning, thereby empowering proactive retention strategies and sustainable growth.\n",
    "## **Objective**\n",
    "The objective of this project is to develop and deploy robust classification models for customer churn analysis using advanced machine learning techniques. Specifically, my goal is to:\n",
    "1. Utilize historical customer data to train and validate classification algorithms that accurately predict customer churn probabilities.\n",
    "2. Implement scalable and interpretable machine learning models that can categorize customers into churn-risk segments for targeted retention efforts.\n",
    "3. Optimize model performance by fine-tuning hyperparameters, feature selection, and model evaluation metrics to achieve high accuracy and predictive power.\n",
    "4. Integrate the developed models into existing business processes, enabling real-time churn prediction and actionable insights for decision-makers.\n",
    "5. Evaluate the effectiveness of the deployed models through continuous monitoring, validation, and refinement to ensure long-term sustainability and impact on customer retention and profitability.  \n",
    "\n",
    "By achieving these objectives, I aim to empower businesses with actionable insights derived from data-driven churn analysis, enabling them to implement proactive retention strategies, optimize resource allocation, and drive sustainable growth in today's competitive market landscape.\n",
    "## **Project Goals(KPIs)**\n",
    "- Develop accurate classification models for churn prediction.\n",
    "- Optimize retention strategies based on model insights.\n",
    "- Drive sustainable growth and profitability by reducing churn rates.\n",
    "- Provide actionable insights for informed decision-making.\n",
    "- Enhance customer experience and engagement."
   ]
  },
  {
   "cell_type": "markdown",
   "metadata": {},
   "source": [
    "### Importing Necessary Packages"
   ]
  },
  {
   "cell_type": "code",
   "execution_count": 1,
   "metadata": {},
   "outputs": [],
   "source": [
    "import pyodbc    \n",
    "from dotenv import dotenv_values\n",
    "import pandas as pd\n",
    "import warnings \n",
    "\n",
    "warnings.filterwarnings('ignore')"
   ]
  },
  {
   "cell_type": "markdown",
   "metadata": {},
   "source": [
    "### Loading Environment variables"
   ]
  },
  {
   "cell_type": "code",
   "execution_count": 2,
   "metadata": {},
   "outputs": [],
   "source": [
    "# Load environment variables from .env file into a dictionary\n",
    "environment_variables = dotenv_values('.env')\n",
    "# Get the values for the credentials you set in the '.env' file\n",
    "server = environment_variables.get(\"SERVER\")\n",
    "database = environment_variables.get(\"DATABASE\")\n",
    "username = environment_variables.get(\"USERNAME\")\n",
    "password = environment_variables.get(\"PASSWORD\")\n",
    "\n",
    "connection_string = f\"DRIVER={{SQL Server}};SERVER={server};DATABASE={database};UID={username};PWD={password};MARS_Connection=yes;MinProtocolVersion=TLSv1.2;\""
   ]
  },
  {
   "cell_type": "code",
   "execution_count": 3,
   "metadata": {},
   "outputs": [],
   "source": [
    "connection = pyodbc.connect(connection_string)"
   ]
  },
  {
   "cell_type": "markdown",
   "metadata": {},
   "source": [
    "#### Geting the Training data\n",
    "Using SQL to generate the table"
   ]
  },
  {
   "cell_type": "code",
   "execution_count": 4,
   "metadata": {},
   "outputs": [],
   "source": [
    "# Selecting data using the SQL syntax\n",
    "query = \"Select * from dbo.LP2_Telco_churn_first_3000\"\n",
    "# Reading the first part of training data into a data frame\n",
    "data1 = pd.read_sql(query, connection)"
   ]
  },
  {
   "cell_type": "markdown",
   "metadata": {},
   "source": [
    "#### Getting the second Training dataset\n",
    "The second dataset is downloaded to my local drive and loaded to the python environment"
   ]
  },
  {
   "cell_type": "code",
   "execution_count": 5,
   "metadata": {},
   "outputs": [],
   "source": [
    "# Loading second training data\n",
    "data2 = pd.read_csv(\"C:/Users/EWamathai/Desktop/Customer Churn Prediction/Customer-Churn-Prediction/files/LP2_Telco-churn-second-2000.csv\")"
   ]
  },
  {
   "cell_type": "markdown",
   "metadata": {},
   "source": [
    "### Concating the training datasets"
   ]
  },
  {
   "cell_type": "code",
   "execution_count": 6,
   "metadata": {},
   "outputs": [],
   "source": [
    "# Loading the two dataframes into a variable\n",
    "data3 = [data1, data2]\n",
    "# Concatenation of the data frames\n",
    "train_df = pd.concat(data3, ignore_index=True)"
   ]
  },
  {
   "cell_type": "code",
   "execution_count": 7,
   "metadata": {},
   "outputs": [
    {
     "name": "stdout",
     "output_type": "stream",
     "text": [
      "<class 'pandas.core.frame.DataFrame'>\n",
      "RangeIndex: 5043 entries, 0 to 5042\n",
      "Data columns (total 21 columns):\n",
      " #   Column            Non-Null Count  Dtype  \n",
      "---  ------            --------------  -----  \n",
      " 0   customerID        5043 non-null   object \n",
      " 1   gender            5043 non-null   object \n",
      " 2   SeniorCitizen     5043 non-null   int64  \n",
      " 3   Partner           5043 non-null   object \n",
      " 4   Dependents        5043 non-null   object \n",
      " 5   tenure            5043 non-null   int64  \n",
      " 6   PhoneService      5043 non-null   object \n",
      " 7   MultipleLines     4774 non-null   object \n",
      " 8   InternetService   5043 non-null   object \n",
      " 9   OnlineSecurity    4392 non-null   object \n",
      " 10  OnlineBackup      4392 non-null   object \n",
      " 11  DeviceProtection  4392 non-null   object \n",
      " 12  TechSupport       4392 non-null   object \n",
      " 13  StreamingTV       4392 non-null   object \n",
      " 14  StreamingMovies   4392 non-null   object \n",
      " 15  Contract          5043 non-null   object \n",
      " 16  PaperlessBilling  5043 non-null   object \n",
      " 17  PaymentMethod     5043 non-null   object \n",
      " 18  MonthlyCharges    5043 non-null   float64\n",
      " 19  TotalCharges      5038 non-null   object \n",
      " 20  Churn             5042 non-null   object \n",
      "dtypes: float64(1), int64(2), object(18)\n",
      "memory usage: 827.5+ KB\n"
     ]
    }
   ],
   "source": [
    "# Checking training data info\n",
    "train_df.info()"
   ]
  },
  {
   "cell_type": "markdown",
   "metadata": {},
   "source": [
    "## **Data Understanding**\n",
    "#### **Data Integrity**\n",
    "The DataFrame contains 5043 entries across 21 columns and thus a substantial dataset for analysis. Most columns have non-null counts indicating complete data, but there are missing values in \n",
    "- MultipleLines\n",
    "- OnlineSecurity \n",
    "- OnlineBackup\n",
    "- DeviceProtection\n",
    "- TechSupport\n",
    "- StreamingTV\n",
    "- StreamingMovies\n",
    "- TotalCharges\n",
    "- Churn\n",
    "#### **Data Types**\n",
    "- The 'SeniorCitizen' column is represented as an integer, indicating a binary variable (likely indicating whether the customer is a senior citizen or not).  \n",
    "- 'MonthlyCharges' is correctly represented as a float, but 'TotalCharges' is shown as an object, which may need conversion to numeric for numerical analysis.\n",
    "#### **Categorical Variables**\n",
    "- Several columns such as 'gender', 'Partner', 'Dependents', 'PhoneService', 'MultipleLines', 'InternetService', 'OnlineSecurity', 'OnlineBackup', 'DeviceProtection', 'TechSupport', 'StreamingTV', 'StreamingMovies', 'Contract', 'PaperlessBilling', 'PaymentMethod', and 'Churn' are categorical variables, likely representing customer characteristics, services subscribed to, and contract details.  \n",
    "- The 'Churn' column is the target variable indicating whether a customer churned or not.\n",
    "#### **Numeric Variables**\n",
    "- 'tenure' represents the number of months a customer has stayed with the company, which can be a significant predictor of churn.  \n",
    "- 'MonthlyCharges' and 'TotalCharges' are likely related to billing information and customer spending, which can also be important predictors of churn.  \n",
    "#### **Data Cleaning and Preprocessing**\n",
    "- Missing values in 'MultipleLines', 'OnlineSecurity', 'OnlineBackup', 'DeviceProtection', 'TechSupport', 'StreamingTV', 'StreamingMovies', 'TotalCharges', and 'Churn' may require imputation or removal depending on their impact on the analysis.  \n",
    "- The 'TotalCharges' column should be converted to a numeric data type for numerical computations.\n",
    "#### **Churn Analysis**\n",
    "Since the goal is to predict customer churn, analyzing the distribution of 'Churn' values (e.g., churned vs. non-churned customers) and exploring relationships between predictor variables and churn status will be crucial.  \n",
    "#### **Feature Engineering**\n",
    "Creating new features or deriving insights from existing ones (e.g., customer tenure in months, total spending) can enhance the predictive power of the model."
   ]
  },
  {
   "cell_type": "markdown",
   "metadata": {},
   "source": [
    "## **Business Questions**\n",
    "- **Demographic Analysis**\n",
    "1. How does customer churn vary based on demographic factors such as gender, age (SeniorCitizen), marital status (Partner), and presence of dependents (Dependents)?\n",
    "2.  Are there any specific demographic segments that are more prone to churn than others?\n",
    "- **Tenure Analysis**\n",
    "1. What is the relationship between customer tenure (length of subscription) and churn rate?\n",
    "2.  Do long-tenured customers exhibit lower churn rates compared to new customers?\n",
    "- **Service Usage Analysis**\n",
    "1. How does the availability and utilization of services such as PhoneService, MultipleLines, InternetService, OnlineSecurity, OnlineBackup, DeviceProtection, TechSupport, StreamingTV, and StreamingMovies impact customer churn?\n",
    "2. Are customers subscribing to additional services less likely to churn?\n",
    "- **Contract Analysis**\n",
    "1. What is the churn rate among customers based on different contract types (Contract)?\n",
    "2. Do customers with longer-term contracts exhibit lower churn rates compared to those with month-to-month contracts?\n",
    "- **Billing Preferences**\n",
    "1. Does the preference for paperless billing (PaperlessBilling) influence customer churn?\n",
    "2. Are customers using certain payment methods (PaymentMethod) more likely to churn than others?\n",
    "- **Financial Impact**\n",
    "1. How do monthly charges (MonthlyCharges) and total charges (TotalCharges) affect customer churn?\n",
    "2. Do customers with higher monthly charges or total charges have different churn behavior?\n",
    "- **Customer Support Analysis**\n",
    "1. What is the impact of customer support services (OnlineSecurity, OnlineBackup, DeviceProtection, TechSupport) on reducing churn?\n",
    "2. Are customers who utilize tech support or security services less likely to churn?\n",
    "- **Correlation Analysis**\n",
    "1. Are there any significant correlations between different features (e.g., tenure, monthly charges, contract type) and customer churn?\n",
    "2. Which factors have the strongest correlation with churn behavior?"
   ]
  }
 ],
 "metadata": {
  "kernelspec": {
   "display_name": "Python 3",
   "language": "python",
   "name": "python3"
  },
  "language_info": {
   "codemirror_mode": {
    "name": "ipython",
    "version": 3
   },
   "file_extension": ".py",
   "mimetype": "text/x-python",
   "name": "python",
   "nbconvert_exporter": "python",
   "pygments_lexer": "ipython3",
   "version": "3.12.0"
  }
 },
 "nbformat": 4,
 "nbformat_minor": 2
}
